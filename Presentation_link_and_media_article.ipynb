{
  "nbformat": 4,
  "nbformat_minor": 0,
  "metadata": {
    "colab": {
      "provenance": [],
      "authorship_tag": "ABX9TyNCwndId9tkQys8sVyosfx5",
      "include_colab_link": true
    },
    "kernelspec": {
      "name": "python3",
      "display_name": "Python 3"
    },
    "language_info": {
      "name": "python"
    }
  },
  "cells": [
    {
      "cell_type": "markdown",
      "metadata": {
        "id": "view-in-github",
        "colab_type": "text"
      },
      "source": [
        "<a href=\"https://colab.research.google.com/github/Kostratana/logistic_optimization_genetic_ants_algorithms/blob/main/Presentation_link_and_media_article.ipynb\" target=\"_parent\"><img src=\"https://colab.research.google.com/assets/colab-badge.svg\" alt=\"Open In Colab\"/></a>"
      ]
    },
    {
      "cell_type": "markdown",
      "source": [
        "Presentation link\n",
        "https://drive.google.com/file/d/1_-Ehg1t6LwIQ_dJk6kwFabkpthNAlouW/view?usp=sharing\n",
        "\n",
        "Media article about project\n",
        "https://aidigo.ru/blog/articles/mnenie-eksperta/innovatsii-v-aydigo/"
      ],
      "metadata": {
        "id": "sztPfASTIlrH"
      }
    }
  ]
}