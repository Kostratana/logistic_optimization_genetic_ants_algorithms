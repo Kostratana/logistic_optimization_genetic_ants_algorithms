{
  "nbformat": 4,
  "nbformat_minor": 0,
  "metadata": {
    "colab": {
      "provenance": [],
      "mount_file_id": "1ZKHIB5_kmvwF-1r6w2pLmRYM_LzPNZAS",
      "authorship_tag": "ABX9TyNypD+N+CUFqESxpO1dhfc7",
      "include_colab_link": true
    },
    "kernelspec": {
      "name": "python3",
      "display_name": "Python 3"
    },
    "language_info": {
      "name": "python"
    }
  },
  "cells": [
    {
      "cell_type": "markdown",
      "metadata": {
        "id": "view-in-github",
        "colab_type": "text"
      },
      "source": [
        "<a href=\"https://colab.research.google.com/github/Kostratana/logistic_optimization_genetic_ants_algorithms/blob/main/Distance_matrix_ant_algorithm_%22Aidigo%22_ipynb%22.ipynb\" target=\"_parent\"><img src=\"https://colab.research.google.com/assets/colab-badge.svg\" alt=\"Open In Colab\"/></a>"
      ]
    },
    {
      "cell_type": "code",
      "source": [
        "%%capture\n",
        "!pip install osmnx\n",
        "\n",
        "import osmnx as ox # Маршруты на графах\n",
        "import pandas as pd\n",
        "import numpy as np\n",
        "import matplotlib.pyplot as plt # Отрисовка изображений\n",
        "import seaborn as sns # Надстройка визуализации над matplotlib\n",
        "import networkx as nx # Для анализа и визуализации графовых структур\n",
        "import folium # Для создания интерактивных карт\n",
        "from itertools import cycle # Для создания итератора\n",
        "from numpy import radians\n",
        "import numpy as np\n",
        "from scipy import spatial\n",
        "import time\n",
        "import matplotlib.pyplot as plt\n",
        "import pandas as pd\n",
        "from sklearn.cluster import KMeans\n",
        "from scipy.spatial.distance import cdist"
      ],
      "metadata": {
        "id": "ge_YhNtE044u"
      },
      "execution_count": null,
      "outputs": []
    },
    {
      "cell_type": "code",
      "source": [
        "!pip -q install sweetviz"
      ],
      "metadata": {
        "colab": {
          "base_uri": "https://localhost:8080/"
        },
        "id": "akAWQOph080I",
        "outputId": "f03231d6-3e46-49ad-c299-a099fa732fca"
      },
      "execution_count": null,
      "outputs": [
        {
          "output_type": "stream",
          "name": "stdout",
          "text": [
            "\u001b[2K     \u001b[90m━━━━━━━━━━━━━━━━━━━━━━━━━━━━━━━━━━━━━━━━\u001b[0m \u001b[32m15.1/15.1 MB\u001b[0m \u001b[31m50.6 MB/s\u001b[0m eta \u001b[36m0:00:00\u001b[0m\n",
            "\u001b[?25h"
          ]
        }
      ]
    },
    {
      "cell_type": "code",
      "source": [
        "from google.colab import files\n",
        "uploaded = files.upload()"
      ],
      "metadata": {
        "colab": {
          "base_uri": "https://localhost:8080/",
          "height": 74
        },
        "id": "QfXiLnk22cc2",
        "outputId": "6c326bfb-4b94-464a-ac90-5946fe6ddf3a"
      },
      "execution_count": null,
      "outputs": [
        {
          "output_type": "display_data",
          "data": {
            "text/plain": [
              "<IPython.core.display.HTML object>"
            ],
            "text/html": [
              "\n",
              "     <input type=\"file\" id=\"files-c6c20e6c-d484-4e56-adf1-d4f55e0d18ab\" name=\"files[]\" multiple disabled\n",
              "        style=\"border:none\" />\n",
              "     <output id=\"result-c6c20e6c-d484-4e56-adf1-d4f55e0d18ab\">\n",
              "      Upload widget is only available when the cell has been executed in the\n",
              "      current browser session. Please rerun this cell to enable.\n",
              "      </output>\n",
              "      <script>// Copyright 2017 Google LLC\n",
              "//\n",
              "// Licensed under the Apache License, Version 2.0 (the \"License\");\n",
              "// you may not use this file except in compliance with the License.\n",
              "// You may obtain a copy of the License at\n",
              "//\n",
              "//      http://www.apache.org/licenses/LICENSE-2.0\n",
              "//\n",
              "// Unless required by applicable law or agreed to in writing, software\n",
              "// distributed under the License is distributed on an \"AS IS\" BASIS,\n",
              "// WITHOUT WARRANTIES OR CONDITIONS OF ANY KIND, either express or implied.\n",
              "// See the License for the specific language governing permissions and\n",
              "// limitations under the License.\n",
              "\n",
              "/**\n",
              " * @fileoverview Helpers for google.colab Python module.\n",
              " */\n",
              "(function(scope) {\n",
              "function span(text, styleAttributes = {}) {\n",
              "  const element = document.createElement('span');\n",
              "  element.textContent = text;\n",
              "  for (const key of Object.keys(styleAttributes)) {\n",
              "    element.style[key] = styleAttributes[key];\n",
              "  }\n",
              "  return element;\n",
              "}\n",
              "\n",
              "// Max number of bytes which will be uploaded at a time.\n",
              "const MAX_PAYLOAD_SIZE = 100 * 1024;\n",
              "\n",
              "function _uploadFiles(inputId, outputId) {\n",
              "  const steps = uploadFilesStep(inputId, outputId);\n",
              "  const outputElement = document.getElementById(outputId);\n",
              "  // Cache steps on the outputElement to make it available for the next call\n",
              "  // to uploadFilesContinue from Python.\n",
              "  outputElement.steps = steps;\n",
              "\n",
              "  return _uploadFilesContinue(outputId);\n",
              "}\n",
              "\n",
              "// This is roughly an async generator (not supported in the browser yet),\n",
              "// where there are multiple asynchronous steps and the Python side is going\n",
              "// to poll for completion of each step.\n",
              "// This uses a Promise to block the python side on completion of each step,\n",
              "// then passes the result of the previous step as the input to the next step.\n",
              "function _uploadFilesContinue(outputId) {\n",
              "  const outputElement = document.getElementById(outputId);\n",
              "  const steps = outputElement.steps;\n",
              "\n",
              "  const next = steps.next(outputElement.lastPromiseValue);\n",
              "  return Promise.resolve(next.value.promise).then((value) => {\n",
              "    // Cache the last promise value to make it available to the next\n",
              "    // step of the generator.\n",
              "    outputElement.lastPromiseValue = value;\n",
              "    return next.value.response;\n",
              "  });\n",
              "}\n",
              "\n",
              "/**\n",
              " * Generator function which is called between each async step of the upload\n",
              " * process.\n",
              " * @param {string} inputId Element ID of the input file picker element.\n",
              " * @param {string} outputId Element ID of the output display.\n",
              " * @return {!Iterable<!Object>} Iterable of next steps.\n",
              " */\n",
              "function* uploadFilesStep(inputId, outputId) {\n",
              "  const inputElement = document.getElementById(inputId);\n",
              "  inputElement.disabled = false;\n",
              "\n",
              "  const outputElement = document.getElementById(outputId);\n",
              "  outputElement.innerHTML = '';\n",
              "\n",
              "  const pickedPromise = new Promise((resolve) => {\n",
              "    inputElement.addEventListener('change', (e) => {\n",
              "      resolve(e.target.files);\n",
              "    });\n",
              "  });\n",
              "\n",
              "  const cancel = document.createElement('button');\n",
              "  inputElement.parentElement.appendChild(cancel);\n",
              "  cancel.textContent = 'Cancel upload';\n",
              "  const cancelPromise = new Promise((resolve) => {\n",
              "    cancel.onclick = () => {\n",
              "      resolve(null);\n",
              "    };\n",
              "  });\n",
              "\n",
              "  // Wait for the user to pick the files.\n",
              "  const files = yield {\n",
              "    promise: Promise.race([pickedPromise, cancelPromise]),\n",
              "    response: {\n",
              "      action: 'starting',\n",
              "    }\n",
              "  };\n",
              "\n",
              "  cancel.remove();\n",
              "\n",
              "  // Disable the input element since further picks are not allowed.\n",
              "  inputElement.disabled = true;\n",
              "\n",
              "  if (!files) {\n",
              "    return {\n",
              "      response: {\n",
              "        action: 'complete',\n",
              "      }\n",
              "    };\n",
              "  }\n",
              "\n",
              "  for (const file of files) {\n",
              "    const li = document.createElement('li');\n",
              "    li.append(span(file.name, {fontWeight: 'bold'}));\n",
              "    li.append(span(\n",
              "        `(${file.type || 'n/a'}) - ${file.size} bytes, ` +\n",
              "        `last modified: ${\n",
              "            file.lastModifiedDate ? file.lastModifiedDate.toLocaleDateString() :\n",
              "                                    'n/a'} - `));\n",
              "    const percent = span('0% done');\n",
              "    li.appendChild(percent);\n",
              "\n",
              "    outputElement.appendChild(li);\n",
              "\n",
              "    const fileDataPromise = new Promise((resolve) => {\n",
              "      const reader = new FileReader();\n",
              "      reader.onload = (e) => {\n",
              "        resolve(e.target.result);\n",
              "      };\n",
              "      reader.readAsArrayBuffer(file);\n",
              "    });\n",
              "    // Wait for the data to be ready.\n",
              "    let fileData = yield {\n",
              "      promise: fileDataPromise,\n",
              "      response: {\n",
              "        action: 'continue',\n",
              "      }\n",
              "    };\n",
              "\n",
              "    // Use a chunked sending to avoid message size limits. See b/62115660.\n",
              "    let position = 0;\n",
              "    do {\n",
              "      const length = Math.min(fileData.byteLength - position, MAX_PAYLOAD_SIZE);\n",
              "      const chunk = new Uint8Array(fileData, position, length);\n",
              "      position += length;\n",
              "\n",
              "      const base64 = btoa(String.fromCharCode.apply(null, chunk));\n",
              "      yield {\n",
              "        response: {\n",
              "          action: 'append',\n",
              "          file: file.name,\n",
              "          data: base64,\n",
              "        },\n",
              "      };\n",
              "\n",
              "      let percentDone = fileData.byteLength === 0 ?\n",
              "          100 :\n",
              "          Math.round((position / fileData.byteLength) * 100);\n",
              "      percent.textContent = `${percentDone}% done`;\n",
              "\n",
              "    } while (position < fileData.byteLength);\n",
              "  }\n",
              "\n",
              "  // All done.\n",
              "  yield {\n",
              "    response: {\n",
              "      action: 'complete',\n",
              "    }\n",
              "  };\n",
              "}\n",
              "\n",
              "scope.google = scope.google || {};\n",
              "scope.google.colab = scope.google.colab || {};\n",
              "scope.google.colab._files = {\n",
              "  _uploadFiles,\n",
              "  _uploadFilesContinue,\n",
              "};\n",
              "})(self);\n",
              "</script> "
            ]
          },
          "metadata": {}
        },
        {
          "output_type": "stream",
          "name": "stdout",
          "text": [
            "Saving Рейсы20042023.xlsx to Рейсы20042023.xlsx\n"
          ]
        }
      ]
    },
    {
      "cell_type": "code",
      "source": [
        "!pip install scipy"
      ],
      "metadata": {
        "colab": {
          "base_uri": "https://localhost:8080/"
        },
        "id": "clUAG_nPOrKV",
        "outputId": "97d281d0-2871-4ec6-c4a5-83527a772240"
      },
      "execution_count": null,
      "outputs": [
        {
          "output_type": "stream",
          "name": "stdout",
          "text": [
            "Requirement already satisfied: scipy in /usr/local/lib/python3.10/dist-packages (1.11.4)\n",
            "Requirement already satisfied: numpy<1.28.0,>=1.21.6 in /usr/local/lib/python3.10/dist-packages (from scipy) (1.23.5)\n"
          ]
        }
      ]
    },
    {
      "cell_type": "code",
      "source": [
        "!pip install haversine"
      ],
      "metadata": {
        "colab": {
          "base_uri": "https://localhost:8080/"
        },
        "id": "8xQ9HJOmO2qP",
        "outputId": "61fd11eb-79ee-4850-94c0-d96003d22883"
      },
      "execution_count": null,
      "outputs": [
        {
          "output_type": "stream",
          "name": "stdout",
          "text": [
            "Collecting haversine\n",
            "  Downloading haversine-2.8.0-py2.py3-none-any.whl (7.7 kB)\n",
            "Installing collected packages: haversine\n",
            "Successfully installed haversine-2.8.0\n"
          ]
        }
      ]
    },
    {
      "cell_type": "code",
      "source": [
        "from pydrive.auth import GoogleAuth\n",
        "from pydrive.drive import GoogleDrive\n",
        "\n",
        "# Авторизация в Google Диске\n",
        "gauth = GoogleAuth()\n",
        "drive = GoogleDrive(gauth)"
      ],
      "metadata": {
        "colab": {
          "base_uri": "https://localhost:8080/"
        },
        "id": "hvuLNoQ4QCMH",
        "outputId": "fc79f47c-7495-4097-b39b-3a1d52131eff"
      },
      "execution_count": null,
      "outputs": [
        {
          "output_type": "stream",
          "name": "stderr",
          "text": [
            "WARNING:root:pydrive is deprecated and no longer maintained. We recommend that you migrate your projects to pydrive2, the maintained fork of pydrive\n"
          ]
        }
      ]
    },
    {
      "cell_type": "code",
      "source": [
        "# Загрузка файла Excel\n",
        "df = pd.read_excel('/content/Рейсы20042023.xlsx')\n",
        "\n",
        "# Удаление столбцов\n",
        "df.drop(['КОЛИЧЕСТВО_ПАЛЕТ', 'УИД_ВОДИТЕЛЯ','УИД_ДОКУМЕНТА','ВЕС_ДОКУМЕНТА','ОБЪЁМ_ДОКУМЕНТА','КОЛ_ВО_ПАЛЕТ_ДОКУМЕНТА','ПОРЯДОК_ЗАГРУЗКИ','УИД_РЕЙСА','УИД_АВТОМОБИЛЯ','ВЕС','ОБЪЕМ'], axis=1, inplace=True)\n",
        "# Сохранение изменений в новом файле Excel\n",
        "df.to_excel('coordinates.xlsx', index=False)\n",
        "df.head\n"
      ],
      "metadata": {
        "colab": {
          "base_uri": "https://localhost:8080/"
        },
        "id": "J5g-2HDdLpHL",
        "outputId": "19c442e5-86ed-40a1-812b-c46a8e9b0aab"
      },
      "execution_count": null,
      "outputs": [
        {
          "output_type": "execute_result",
          "data": {
            "text/plain": [
              "<bound method NDFrame.head of        ДОЛГОТА     ШИРОТА\n",
              "0    60.881252  56.782632\n",
              "1    60.881252  56.782632\n",
              "2    60.881252  56.782632\n",
              "3    60.881252  56.782632\n",
              "4    60.881252  56.782632\n",
              "..         ...        ...\n",
              "568  60.601138  56.870514\n",
              "569  60.601138  56.870514\n",
              "570  60.601138  56.870514\n",
              "571  60.601138  56.870514\n",
              "572  60.601138  56.870514\n",
              "\n",
              "[573 rows x 2 columns]>"
            ]
          },
          "metadata": {},
          "execution_count": 6
        }
      ]
    },
    {
      "cell_type": "code",
      "source": [
        "import math\n",
        "\n",
        "def haversine_distance(coord1, coord2):\n",
        "    lon1, lat1 = coord1\n",
        "    lon2, lat2 = coord2\n",
        "    radius = 260  # Радиус Земли в километрах\n",
        "\n",
        "    # Переводим градусы в радианы\n",
        "    lon1, lat1, lon2, lat2 = map(math.radians, [lon1, lat1, lon2, lat2])\n",
        "\n",
        "    # Вычисляем разницу между координатами\n",
        "    dlon = lon2 - lon1\n",
        "    dlat = lat2 - lat1\n",
        "\n",
        "    # Вычисляем формулу Хаверсина\n",
        "    a = math.sin(dlat/2)**2 + math.cos(lat1) * math.cos(lat2) * math.sin(dlon/2)**2\n",
        "    c = 2 * math.atan2(math.sqrt(a), math.sqrt(1-a))\n",
        "    distance = radius * c\n",
        "\n",
        "    return distance\n"
      ],
      "metadata": {
        "id": "xxYUR71j-3W8"
      },
      "execution_count": null,
      "outputs": []
    },
    {
      "cell_type": "code",
      "source": [
        "import numpy as np\n",
        "\n",
        "def distance(lat1, lon1, lat2, lon2):\n",
        "    # Переводим градусы в радианы\n",
        "    lat1_rad = np.radians(lat1)\n",
        "    lon1_rad = np.radians(lon1)\n",
        "    lat2_rad = np.radians(lat2)\n",
        "    lon2_rad = np.radians(lon2)\n",
        "\n",
        "    # Вычисляем разницу между координатами\n",
        "    dlat = lat2_rad - lat1_rad\n",
        "    dlon = lon2_rad - lon1_rad\n",
        "\n",
        "    # Вычисляем расстояние с помощью формулы гаверсинусов\n",
        "    a = np.sin(dlat/2)**2 + np.cos(lat1_rad) * np.cos(lat2_rad) * np.sin(dlon/2)**2\n",
        "    c = 2 * np.arctan2(np.sqrt(a), np.sqrt(1-a))\n",
        "    distance = 6371 * c  # Радиус Земли в километрах\n",
        "\n",
        "    return distance\n",
        "\n",
        "# Пример использования функции\n",
        "latitudes = [55.751244, 37.618423, 48.856613]\n",
        "longitudes = [37.618423, 55.751244, 2.352222]\n",
        "\n",
        "# Создаем матрицу расстояний\n",
        "dist_matrix = np.zeros((len(latitudes), len(latitudes)))\n",
        "for i in range(len(latitudes)):\n",
        "    for j in range(len(latitudes)):\n",
        "        dist_matrix[i, j] = distance(latitudes[i], longitudes[i], latitudes[j], longitudes[j])\n",
        "\n",
        "print(dist_matrix)\n"
      ],
      "metadata": {
        "colab": {
          "base_uri": "https://localhost:8080/"
        },
        "id": "FLgEdoSrPiCD",
        "outputId": "78dc6a5e-2e17-4467-b426-c6309429fb51"
      },
      "execution_count": null,
      "outputs": [
        {
          "output_type": "stream",
          "name": "stdout",
          "text": [
            "[[   0.         2428.96333211 2486.28933179]\n",
            " [2428.96333211    0.         4404.41673833]\n",
            " [2486.28933179 4404.41673833    0.        ]]\n"
          ]
        }
      ]
    },
    {
      "cell_type": "markdown",
      "source": [
        "Муравьиный алгоритм по координатам доставки"
      ],
      "metadata": {
        "id": "0tBjkEZX3rjT"
      }
    },
    {
      "cell_type": "code",
      "source": [
        "coordinates = 'coordinates.xlsx'"
      ],
      "metadata": {
        "id": "FtOZ3Ri15Myw"
      },
      "execution_count": null,
      "outputs": []
    },
    {
      "cell_type": "code",
      "source": [
        "[[61.405797\t,55.263773 ], [61.374230, 55.148575], [61.401736, 55.171504] ,[61.360503, 55.189028]]"
      ],
      "metadata": {
        "colab": {
          "base_uri": "https://localhost:8080/"
        },
        "id": "rsadnqmGUrgc",
        "outputId": "0e278136-e673-4f0a-95f0-0f3d4ea56470"
      },
      "execution_count": null,
      "outputs": [
        {
          "output_type": "execute_result",
          "data": {
            "text/plain": [
              "[[61.405797, 55.263773],\n",
              " [61.37423, 55.148575],\n",
              " [61.401736, 55.171504],\n",
              " [61.360503, 55.189028]]"
            ]
          },
          "metadata": {},
          "execution_count": 10
        }
      ]
    },
    {
      "cell_type": "code",
      "source": [
        "# Загрузка данных из файла XLSX в DataFrame\n",
        "data = pd.read_excel('/content/coordinates.xlsx')\n",
        "\n",
        "# Отображение данных\n",
        "print(data)\n",
        "print(data.head())"
      ],
      "metadata": {
        "colab": {
          "base_uri": "https://localhost:8080/"
        },
        "id": "9QOyZDE5X_YP",
        "outputId": "c8ede244-59a0-430a-db07-5808c6ae5acb"
      },
      "execution_count": null,
      "outputs": [
        {
          "output_type": "stream",
          "name": "stdout",
          "text": [
            "       ДОЛГОТА     ШИРОТА\n",
            "0    60.881252  56.782632\n",
            "1    60.881252  56.782632\n",
            "2    60.881252  56.782632\n",
            "3    60.881252  56.782632\n",
            "4    60.881252  56.782632\n",
            "..         ...        ...\n",
            "568  60.601138  56.870514\n",
            "569  60.601138  56.870514\n",
            "570  60.601138  56.870514\n",
            "571  60.601138  56.870514\n",
            "572  60.601138  56.870514\n",
            "\n",
            "[573 rows x 2 columns]\n",
            "     ДОЛГОТА     ШИРОТА\n",
            "0  60.881252  56.782632\n",
            "1  60.881252  56.782632\n",
            "2  60.881252  56.782632\n",
            "3  60.881252  56.782632\n",
            "4  60.881252  56.782632\n"
          ]
        }
      ]
    },
    {
      "cell_type": "code",
      "source": [
        "if np.isnan(probs).any():\n",
        "    # Замена NaN значений на среднее значение по столбцу\n",
        "    mean_values = np.nanmean(probs, axis=0)\n",
        "    probs[np.isnan(probs)] = mean_values[np.isnan(probs)]\n"
      ],
      "metadata": {
        "id": "ghaUFypQH_t7"
      },
      "execution_count": null,
      "outputs": []
    },
    {
      "cell_type": "code",
      "source": [
        "s = pd.Series(['abc'])\n",
        "df = pd.DataFrame({'A': [1, 2, 3]})\n",
        "\n",
        "result = pd.concat([s, df], axis=1)"
      ],
      "metadata": {
        "id": "H4QGUGF5I86V"
      },
      "execution_count": null,
      "outputs": []
    },
    {
      "cell_type": "code",
      "source": [
        "# Создание DataFrame\n",
        "dataframe = pd.DataFrame({'A': [1, 2, 3], 'B': [4, 5, 6]})\n",
        "\n",
        "s = pd.DataFrame(series, columns=['A'])\n",
        "df = pd.DataFrame({'A': [1, 2, 3]})\n",
        "result = pd.concat([s, df], axis=1)\n"
      ],
      "metadata": {
        "id": "NZNEtuQMNteY"
      },
      "execution_count": null,
      "outputs": []
    },
    {
      "cell_type": "code",
      "source": [
        "import numpy as np\n",
        "import pandas as pd\n",
        "\n",
        "# Assuming dist_matrix and coordinates are defined appropriately\n",
        "\n",
        "# Check for NaN values in the probs array\n",
        "if np.isnan(probs).any():\n",
        "    # Replace NaN values with 0.0\n",
        "    probs[np.isnan(probs)] = 0.0\n",
        "\n",
        "# Concatenate the two DataFrames along the columns (axis=1)\n",
        "result = pd.concat([df1, df2], axis=1)\n",
        "\n",
        "# Concatenate the two Series\n",
        "result_series = pd.concat([series1, series2])\n",
        "\n",
        "# Create DataFrame df\n",
        "df = pd.DataFrame({'A': [1, 2, 3]})\n",
        "\n",
        "# Concatenate Series and DataFrame horizontally\n",
        "result_df_series = pd.concat([series1, df], axis=1)\n",
        "\n",
        "# Create DataFrame coordinates\n",
        "coordinates = pd.DataFrame({'X': [4, 5, 6], 'Y': [7, 8, 9]})\n",
        "\n",
        "# Concatenate DataFrame df and coordinates horizontally\n",
        "dist_matrix_with_coordinates = pd.concat([df, coordinates], axis=1)\n",
        "\n",
        "# Fill missing values in dist_matrix_with_coordinates with 0\n",
        "dist_matrix_with_coordinates = dist_matrix_with_coordinates.fillna(0)\n",
        "\n",
        "# Compute the distance matrix using cdist\n",
        "dist_matrix = cdist(coordinates, coordinates, metric='euclidean')\n",
        "\n",
        "# Set the number of ants, iterations, and algorithm parameters\n",
        "num_ants = 10\n",
        "num_iterations = 100\n",
        "alpha = 1.0\n",
        "beta = 2.0\n",
        "rho = 0.5\n",
        "\n",
        "# Initialize pheromones on edges\n",
        "pheromone = np.ones(dist_matrix.shape) / len(dist_matrix)\n",
        "\n",
        "# Iterate through the iterations\n",
        "for iteration in range(num_iterations):\n",
        "    # Create an empty list to store ant paths\n",
        "    ant_paths = []\n",
        "    # Iterate through the ants\n",
        "for ant in range(num_ants):\n",
        "    # Randomly select the starting city for the ant\n",
        "    start_city = np.random.randint(len(dist_matrix))\n",
        "    visited_cities = [start_city]\n",
        "\n",
        "    # Continue until all cities are visited\n",
        "    while len(visited_cities) < len(dist_matrix):\n",
        "        # Calculate transition probabilities to the next city\n",
        "        probs = []\n",
        "        current_city = visited_cities[-1]\n",
        "\n",
        "        for next_city in range(len(dist_matrix)):\n",
        "            if next_city not in visited_cities:\n",
        "                pheromone_level = pheromone[current_city][next_city]\n",
        "                distance = dist_matrix[current_city][next_city]\n",
        "                prob = (pheromone_level ** alpha) * ((1.0 / distance) ** beta)\n",
        "                probs.append(prob)\n",
        "            else:\n",
        "                probs.append(0.0)\n",
        "\n",
        "\n",
        "\n",
        "\n",
        "            # Check for NaN values in the probability array\n",
        "        if np.isnan(probs).any():\n",
        "            probs[np.isnan(probs)] = 0.0  # Replace NaN with 0.0\n",
        "            probs = probs[~np.isnan(probs)]  # Remove NaN values\n",
        "\n",
        "        # Add a small constant value to each element of the probabilities list\n",
        "        probs = [p + 1e-8 for p in probs]\n",
        "\n",
        "        # Normalize the probabilities to sum up to 1\n",
        "        sum_probs = sum(probs)\n",
        "        probs = [p / sum_probs for p in probs]\n",
        "\n",
        "        # Select the next city based on the probabilities\n",
        "        next_city = np.random.choice(range(len(dist_matrix)), p=probs)\n",
        "        visited_cities.append(next_city)\n",
        "\n",
        "            # Select the next city based on the probabilities\n",
        "        next_city = np.random.choice(range(len(dist_matrix)), p=probs)\n",
        "        visited_cities.append(next_city)\n",
        "\n",
        "        # Add the ant's path to the list of paths\n",
        "        ant_paths.append(visited_cities)\n",
        "\n",
        "    # Update pheromones on edges\n",
        "    delta_pheromone = np.zeros(dist_matrix.shape)\n",
        "\n",
        "    for path in ant_paths:\n",
        "        for i in range(len(path) - 1):\n",
        "            current_city = path[i]\n",
        "            next_city = path[i + 1]\n",
        "            delta_pheromone[current_city][next_city] += 1.0 / dist_matrix[current_city][next_city]\n",
        "\n",
        "    pheromone = (1.0 - rho) * pheromone + delta_pheromone\n",
        "\n",
        "# Find the best path\n",
        "best_path = ant_paths[np.argmin([sum([dist_matrix[path[i]][path[i + 1]] for i in range(len(path) - 1)]) for path in ant_paths])]\n",
        "\n",
        "print(\"Best path:\", best_path)"
      ],
      "metadata": {
        "colab": {
          "base_uri": "https://localhost:8080/"
        },
        "id": "ZSZicBO3gzDI",
        "outputId": "eef57f7b-e619-45e5-cdc2-52485845fae5"
      },
      "execution_count": null,
      "outputs": [
        {
          "output_type": "stream",
          "name": "stdout",
          "text": [
            "Best path: [1, 0, 0]\n"
          ]
        },
        {
          "output_type": "stream",
          "name": "stderr",
          "text": [
            "<ipython-input-46-d65b60e2c928>:103: RuntimeWarning: divide by zero encountered in double_scalars\n",
            "  delta_pheromone[current_city][next_city] += 1.0 / dist_matrix[current_city][next_city]\n"
          ]
        }
      ]
    }
  ]
}